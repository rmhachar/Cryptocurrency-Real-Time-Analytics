{
 "cells": [
  {
   "cell_type": "code",
   "execution_count": 1,
   "metadata": {},
   "outputs": [],
   "source": [
    "import requests"
   ]
  },
  {
   "cell_type": "code",
   "execution_count": 2,
   "metadata": {},
   "outputs": [],
   "source": [
    "def test_aws_lambda():\n",
    "\n",
    "    url = 'https://9lajwxzi8h.execute-api.us-east-1.amazonaws.com/default/cryptocompareTest'\n",
    "\n",
    "    headers = {\n",
    "        'Content-Type': \"application/json\"\n",
    "    }\n",
    "\n",
    "    response = requests.request(\"GET\", url, headers=headers).json()\n",
    "\n",
    "    return response"
   ]
  },
  {
   "cell_type": "code",
   "execution_count": 3,
   "metadata": {},
   "outputs": [
    {
     "data": {
      "text/plain": [
       "{'BTC': {'Binance': 7785.8,\n",
       "  'BitTrex': 7861.19,\n",
       "  'Bitfinex': 7763.7,\n",
       "  'Coinbase': 7855.5,\n",
       "  'Poloniex': 7810},\n",
       " 'dollar_dif': 97,\n",
       " 'max_exchange': 'BitTrex',\n",
       " 'max_value': 7861.19,\n",
       " 'min_exchange': 'Bitfinex',\n",
       " 'min_value': 7763.7,\n",
       " 'percent_gain': 1.255715702564496,\n",
       " 'timestamp': '5-13-2019 / 18:24:43'}"
      ]
     },
     "execution_count": 3,
     "metadata": {},
     "output_type": "execute_result"
    }
   ],
   "source": [
    "test_aws_lambda()"
   ]
  },
  {
   "cell_type": "code",
   "execution_count": null,
   "metadata": {},
   "outputs": [],
   "source": []
  }
 ],
 "metadata": {
  "kernelspec": {
   "display_name": "Python 3",
   "language": "python",
   "name": "python3"
  },
  "language_info": {
   "codemirror_mode": {
    "name": "ipython",
    "version": 3
   },
   "file_extension": ".py",
   "mimetype": "text/x-python",
   "name": "python",
   "nbconvert_exporter": "python",
   "pygments_lexer": "ipython3",
   "version": "3.6.4"
  }
 },
 "nbformat": 4,
 "nbformat_minor": 2
}
