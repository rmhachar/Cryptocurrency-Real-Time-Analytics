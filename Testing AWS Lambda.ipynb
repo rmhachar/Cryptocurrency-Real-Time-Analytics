{
 "cells": [
  {
   "cell_type": "markdown",
   "metadata": {},
   "source": [
    "# Testing AWS Lambda"
   ]
  },
  {
   "cell_type": "code",
   "execution_count": 4,
   "metadata": {},
   "outputs": [],
   "source": [
    "import requests"
   ]
  },
  {
   "cell_type": "code",
   "execution_count": 5,
   "metadata": {},
   "outputs": [],
   "source": [
    "def test_aws_lambda():\n",
    "\n",
    "    url = 'YOUR AWS URL HERE'\n",
    "\n",
    "    headers = {\n",
    "        'Content-Type': \"application/json\"\n",
    "    }\n",
    "\n",
    "    response = requests.request(\"GET\", url, headers=headers).json()\n",
    "\n",
    "    return response"
   ]
  },
  {
   "cell_type": "code",
   "execution_count": 14,
   "metadata": {
    "scrolled": false
   },
   "outputs": [
    {
     "data": {
      "text/plain": [
       "{'BTC': {'Binance': {'spreads': {'Binance': 0.0,\n",
       "    'BitTrex': -8.43999999999869,\n",
       "    'Bitfinex': 1.0200000000004366,\n",
       "    'Coinbase': -11.969999999999345,\n",
       "    'Poloniex': 6.75},\n",
       "   'value': 8568.02},\n",
       "  'BitTrex': {'spreads': {'Binance': 8.43999999999869,\n",
       "    'BitTrex': 0.0,\n",
       "    'Bitfinex': 9.459999999999127,\n",
       "    'Coinbase': -3.530000000000655,\n",
       "    'Poloniex': 15.18999999999869},\n",
       "   'value': 8576.46},\n",
       "  'Bitfinex': {'spreads': {'Binance': -1.0200000000004366,\n",
       "    'BitTrex': -9.459999999999127,\n",
       "    'Bitfinex': 0,\n",
       "    'Coinbase': -12.989999999999782,\n",
       "    'Poloniex': 5.729999999999563},\n",
       "   'value': 8567},\n",
       "  'Coinbase': {'spreads': {'Binance': 11.969999999999345,\n",
       "    'BitTrex': 3.530000000000655,\n",
       "    'Bitfinex': 12.989999999999782,\n",
       "    'Coinbase': 0.0,\n",
       "    'Poloniex': 18.719999999999345},\n",
       "   'value': 8579.99},\n",
       "  'Poloniex': {'spreads': {'Binance': -6.75,\n",
       "    'BitTrex': -15.18999999999869,\n",
       "    'Bitfinex': -5.729999999999563,\n",
       "    'Coinbase': -18.719999999999345,\n",
       "    'Poloniex': 0.0},\n",
       "   'value': 8561.27}},\n",
       " 'dollar_dif': 19,\n",
       " 'max_exchange': 'Coinbase',\n",
       " 'max_value': 8579.99,\n",
       " 'min_exchange': 'Poloniex',\n",
       " 'min_value': 8561.27,\n",
       " 'percent_gain': 0.21865914753301025,\n",
       " 'timestamp': '6-2-2019 / 4:49:14'}"
      ]
     },
     "execution_count": 14,
     "metadata": {},
     "output_type": "execute_result"
    }
   ],
   "source": [
    "test_aws_lambda()"
   ]
  },
  {
   "cell_type": "code",
   "execution_count": null,
   "metadata": {},
   "outputs": [],
   "source": []
  }
 ],
 "metadata": {
  "kernelspec": {
   "display_name": "Python 3",
   "language": "python",
   "name": "python3"
  },
  "language_info": {
   "codemirror_mode": {
    "name": "ipython",
    "version": 3
   },
   "file_extension": ".py",
   "mimetype": "text/x-python",
   "name": "python",
   "nbconvert_exporter": "python",
   "pygments_lexer": "ipython3",
   "version": "3.6.4"
  }
 },
 "nbformat": 4,
 "nbformat_minor": 2
}
