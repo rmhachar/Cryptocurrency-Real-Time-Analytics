{
 "cells": [
  {
   "cell_type": "markdown",
   "metadata": {},
   "source": [
    "# Identifying Arbitrage Opportunities\n",
    "\n",
    "This script identifies arbitrage opportunities across a set of cryptocurrency exchanges by returning the current value of any given cryptocurrency on any given exchange, and identifying the exchanges with the highest and lowest values for said cryptocurrency."
   ]
  },
  {
   "cell_type": "code",
   "execution_count": 63,
   "metadata": {},
   "outputs": [],
   "source": [
    "import pandas as pd\n",
    "import numpy as np\n",
    "import requests\n",
    "import json\n",
    "import operator\n",
    "from datetime import datetime"
   ]
  },
  {
   "cell_type": "code",
   "execution_count": 64,
   "metadata": {},
   "outputs": [],
   "source": [
    "currency1 = 'BTC'\n",
    "currency2 = ['USD', 'USDT']\n",
    "\n",
    "exchanges = [\n",
    "    \"Bitfinex\",\n",
    "    \"Binance\",\n",
    "    \"Poloniex\",\n",
    "    \"Coinbase\",\n",
    "    \"BitTrex\" \n",
    "]\n",
    "\n",
    "api_key = 'c32565db2e025bfaba2a25ccc2068d5aa44ddaefd51277bfd833e5649606defc'"
   ]
  },
  {
   "cell_type": "code",
   "execution_count": 65,
   "metadata": {},
   "outputs": [],
   "source": [
    "def get_coin_price(currency1, currency2, exchange, api_key):\n",
    "    url = 'https://min-api.cryptocompare.com/data/price?fsym={}&tsyms={}&api_key={}&e={}'.format(\n",
    "        currency1, \n",
    "        currency2, \n",
    "        api_key, \n",
    "        exchange\n",
    "    )\n",
    "    \n",
    "    headers = {\n",
    "        'Content-Type': \"application/json\"\n",
    "    }\n",
    "\n",
    "    response = requests.request(\"GET\", url, headers=headers).json()\n",
    "    \n",
    "    return response"
   ]
  },
  {
   "cell_type": "code",
   "execution_count": 68,
   "metadata": {},
   "outputs": [],
   "source": [
    "def find_arbitarage_opportunities(currency1, currency2, exchanges, api_key):\n",
    "    \n",
    "    usd_exchange = ['Coinbase', 'BitTrex', 'Bitfinex']\n",
    "    usdt_exchange = ['Binance', 'Poloniex']\n",
    "    exchange_list = []\n",
    "    value_list = []\n",
    "    \n",
    "    for exchange in exchanges:\n",
    "        if exchange in usd_exchange:\n",
    "            coin_price = get_coin_price(currency1, currency2[0], exchange, api_key)['USD']\n",
    "        else:\n",
    "            coin_price = get_coin_price(currency1, currency2[1], exchange, api_key)['USDT']\n",
    "        value_list.append(coin_price)\n",
    "        \n",
    "    for i in range(0, len(exchanges)):\n",
    "        exchange_list.append(exchanges[i])\n",
    "        \n",
    "    response = dict(zip(exchange_list, value_list))\n",
    "    \n",
    "    max_value = max(response.values())\n",
    "    max_exchange = max(response.items(), key=operator.itemgetter(1))[0]\n",
    "    min_value = min(response.values())\n",
    "    min_exchange = min(response.items(), key=operator.itemgetter(1))[0]\n",
    "    \n",
    "    output = create_output(\n",
    "        response, \n",
    "        max_value, \n",
    "        max_exchange, \n",
    "        min_value, \n",
    "        min_exchange\n",
    "    )\n",
    "    \n",
    "    return output"
   ]
  },
  {
   "cell_type": "code",
   "execution_count": 71,
   "metadata": {},
   "outputs": [],
   "source": [
    "def create_output(output, max_value, max_exchange, min_value, min_exchange):\n",
    "    output = {\n",
    "        'output': output,\n",
    "        'max_exchange': max_exchange,\n",
    "        'max_value': max_value,\n",
    "        'min_exchange': min_exchange,\n",
    "        'min_value': min_value,\n",
    "        'timestamp': datetime.now()\n",
    "    }\n",
    "    \n",
    "    return output"
   ]
  },
  {
   "cell_type": "code",
   "execution_count": 72,
   "metadata": {},
   "outputs": [],
   "source": [
    "response = find_arbitarage_opportunities(currency1, currency2, exchanges, api_key)"
   ]
  },
  {
   "cell_type": "code",
   "execution_count": 73,
   "metadata": {},
   "outputs": [
    {
     "data": {
      "text/plain": [
       "{'output': {'Bitfinex': 7041.3,\n",
       "  'Binance': 7027.75,\n",
       "  'Poloniex': 7086.94,\n",
       "  'Coinbase': 7078.12,\n",
       "  'BitTrex': 7106.74},\n",
       " 'max_exchange': 'BitTrex',\n",
       " 'max_value': 7106.74,\n",
       " 'min_exchange': 'Binance',\n",
       " 'min_value': 7027.75,\n",
       " 'timestamp': datetime.datetime(2019, 5, 11, 17, 36, 30, 699001)}"
      ]
     },
     "execution_count": 73,
     "metadata": {},
     "output_type": "execute_result"
    }
   ],
   "source": [
    "response"
   ]
  }
 ],
 "metadata": {
  "kernelspec": {
   "display_name": "Python 3",
   "language": "python",
   "name": "python3"
  },
  "language_info": {
   "codemirror_mode": {
    "name": "ipython",
    "version": 3
   },
   "file_extension": ".py",
   "mimetype": "text/x-python",
   "name": "python",
   "nbconvert_exporter": "python",
   "pygments_lexer": "ipython3",
   "version": "3.7.3"
  }
 },
 "nbformat": 4,
 "nbformat_minor": 2
}
