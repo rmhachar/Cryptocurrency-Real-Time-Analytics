{
 "cells": [
  {
   "cell_type": "markdown",
   "metadata": {},
   "source": [
    "# Identifying Arbitrage Opportunities\n",
    "\n",
    "This notebook is for testing the individual functions within lambda_script.py, outside of a lambda.\n",
    "\n",
    "This script identifies arbitrage opportunities across a set of cryptocurrency exchanges by returning the current value of any given cryptocurrency on any given exchange, and identifying the exchanges with the highest and lowest values for said cryptocurrency."
   ]
  },
  {
   "cell_type": "markdown",
   "metadata": {},
   "source": [
    "## Setup"
   ]
  },
  {
   "cell_type": "code",
   "execution_count": 1,
   "metadata": {},
   "outputs": [],
   "source": [
    "# Imports\n",
    "import json\n",
    "import operator\n",
    "import requests\n",
    "from datetime import datetime"
   ]
  },
  {
   "cell_type": "code",
   "execution_count": 13,
   "metadata": {},
   "outputs": [],
   "source": [
    "# Declare variables\n",
    "currency1 = 'BTC'\n",
    "currency2 = ['USD', 'USDT']\n",
    "\n",
    "exchanges = [\n",
    "    \"Bitfinex\",\n",
    "    \"Binance\",\n",
    "    \"Poloniex\",\n",
    "    \"Coinbase\",\n",
    "    \"BitTrex\" \n",
    "]\n",
    "\n",
    "api_key = 'c32565db2e025bfaba2a25ccc2068d5aa44ddaefd51277bfd833e5649606defc'"
   ]
  },
  {
   "cell_type": "markdown",
   "metadata": {},
   "source": [
    "## Define Functions"
   ]
  },
  {
   "cell_type": "code",
   "execution_count": 14,
   "metadata": {},
   "outputs": [],
   "source": [
    "def get_coin_price(currency1, currency2, exchange, api_key):\n",
    "    url = 'https://min-api.cryptocompare.com/data/price?fsym={}&tsyms={}&api_key={}&e={}'.format(\n",
    "        currency1, \n",
    "        currency2, \n",
    "        api_key, \n",
    "        exchange\n",
    "    )\n",
    "    \n",
    "    headers = {\n",
    "        'Content-Type': \"application/json\"\n",
    "    }\n",
    "    response = requests.request(\"GET\", url, headers=headers).json()\n",
    "    \n",
    "    return response\n"
   ]
  },
  {
   "cell_type": "code",
   "execution_count": 27,
   "metadata": {},
   "outputs": [],
   "source": [
    "def find_arbitarage_opportunities(currency1, currency2, exchanges, api_key):\n",
    "    \n",
    "    usd_exchange = ['Coinbase', 'BitTrex', 'Bitfinex']\n",
    "    usdt_exchange = ['Binance', 'Poloniex']\n",
    "    exchange_list = []\n",
    "    value_list = []\n",
    "    \n",
    "    # create price list\n",
    "    for exchange in exchanges:\n",
    "        if exchange in usd_exchange:\n",
    "            coin_price = get_coin_price(currency1, currency2[0], exchange, api_key)['USD']\n",
    "        else:\n",
    "            coin_price = get_coin_price(currency1, currency2[1], exchange, api_key)['USDT']\n",
    "        value_list.append(coin_price)\n",
    "        \n",
    "    # create exchange list\n",
    "    for i in range(0, len(exchanges)):\n",
    "        exchange_list.append(exchanges[i])\n",
    "        \n",
    "    # create dictionary\n",
    "    response = dict(zip(exchange_list, value_list))\n",
    "    \n",
    "    # min and max\n",
    "    max_value = max(response.values())\n",
    "    max_exchange = max(response.items(), key=operator.itemgetter(1))[0]\n",
    "    min_value = min(response.values())\n",
    "    min_exchange = min(response.items(), key=operator.itemgetter(1))[0]\n",
    "    \n",
    "    # time\n",
    "    now = datetime.now()\n",
    "    timestamp = str(now.month) + '-' + str(now.day) + '-' + str(now.year) + ' / ' + str(now.hour) + ':' + str(now.minute) + ':' + str(now.second)\n",
    "    \n",
    "    # gains\n",
    "    dollar_dif = round(max_value - min_value)\n",
    "    percent_gain = ((max_value - min_value)/min_value)*100\n",
    "    \n",
    "    print('percent_gain': percent_gain)\n",
    "    \n",
    "    # create output\n",
    "    output = create_output(\n",
    "        response, \n",
    "        max_value, \n",
    "        max_exchange,\n",
    "        min_value, \n",
    "        min_exchange,\n",
    "        timestamp,\n",
    "        dollar_dif,\n",
    "        percent_gain\n",
    "    )\n",
    "    \n",
    "    return output"
   ]
  },
  {
   "cell_type": "code",
   "execution_count": 34,
   "metadata": {},
   "outputs": [],
   "source": [
    "def create_output(response, max_value, max_exchange, min_value, min_exchange, timestamp, dollar_dif, percent_gain):\n",
    "    output = {\n",
    "        'BTC': get_btc_values_and_spreads(response),\n",
    "        'max_exchange': max_exchange,\n",
    "        'max_value': max_value,\n",
    "        'min_exchange': min_exchange,\n",
    "        'min_value': min_value,\n",
    "        'timestamp': timestamp,\n",
    "        'dollar_dif': dollar_dif,\n",
    "        'percent_gain': percent_gain\n",
    "    }\n",
    "    \n",
    "    return output"
   ]
  },
  {
   "cell_type": "code",
   "execution_count": 56,
   "metadata": {},
   "outputs": [],
   "source": [
    "def get_btc_values_and_spreads(exchange_and_values):\n",
    "    \n",
    "    all_spreads = {}\n",
    "    \n",
    "    for key, value in exchange_and_values.items():\n",
    "        spreads = {}\n",
    "        temp_key = key\n",
    "        temp_value = value\n",
    "        \n",
    "        for key2, value2 in exchange_and_values.items():\n",
    "            temp_spread = {\n",
    "                key2: value-value2\n",
    "            }\n",
    "            spreads.update(temp_spread)\n",
    "        \n",
    "        temp_dict = {\n",
    "            temp_key: {\n",
    "                \"value\": temp_value,\n",
    "                \"spreads\": spreads\n",
    "            }\n",
    "        }\n",
    "        \n",
    "        all_spreads.update(temp_dict)\n",
    "        \n",
    "    return all_spreads"
   ]
  },
  {
   "cell_type": "code",
   "execution_count": 57,
   "metadata": {},
   "outputs": [],
   "source": [
    "response = find_arbitarage_opportunities(currency1, currency2, exchanges, api_key)"
   ]
  },
  {
   "cell_type": "code",
   "execution_count": 59,
   "metadata": {},
   "outputs": [
    {
     "data": {
      "text/plain": [
       "{'BTC': {'Binance': {'spreads': {'Binance': 0.0,\n",
       "    'BitTrex': -23.350000000000364,\n",
       "    'Bitfinex': -17.550000000000182,\n",
       "    'Coinbase': -21.300000000000182,\n",
       "    'Poloniex': -5.579999999999927},\n",
       "   'value': 7746.65},\n",
       "  'BitTrex': {'spreads': {'Binance': 23.350000000000364,\n",
       "    'BitTrex': 0,\n",
       "    'Bitfinex': 5.800000000000182,\n",
       "    'Coinbase': 2.050000000000182,\n",
       "    'Poloniex': 17.770000000000437},\n",
       "   'value': 7770},\n",
       "  'Bitfinex': {'spreads': {'Binance': 17.550000000000182,\n",
       "    'BitTrex': -5.800000000000182,\n",
       "    'Bitfinex': 0.0,\n",
       "    'Coinbase': -3.75,\n",
       "    'Poloniex': 11.970000000000255},\n",
       "   'value': 7764.2},\n",
       "  'Coinbase': {'spreads': {'Binance': 21.300000000000182,\n",
       "    'BitTrex': -2.050000000000182,\n",
       "    'Bitfinex': 3.75,\n",
       "    'Coinbase': 0.0,\n",
       "    'Poloniex': 15.720000000000255},\n",
       "   'value': 7767.95},\n",
       "  'Poloniex': {'spreads': {'Binance': 5.579999999999927,\n",
       "    'BitTrex': -17.770000000000437,\n",
       "    'Bitfinex': -11.970000000000255,\n",
       "    'Coinbase': -15.720000000000255,\n",
       "    'Poloniex': 0.0},\n",
       "   'value': 7752.23}},\n",
       " 'dollar_dif': 23,\n",
       " 'max_exchange': 'BitTrex',\n",
       " 'max_value': 7770,\n",
       " 'min_exchange': 'Binance',\n",
       " 'min_value': 7746.65,\n",
       " 'percent_gain': 0.30142061407189386,\n",
       " 'timestamp': '5-20-2019 / 13:19:25'}"
      ]
     },
     "execution_count": 59,
     "metadata": {},
     "output_type": "execute_result"
    }
   ],
   "source": [
    "response"
   ]
  }
 ],
 "metadata": {
  "kernelspec": {
   "display_name": "Python 3",
   "language": "python",
   "name": "python3"
  },
  "language_info": {
   "codemirror_mode": {
    "name": "ipython",
    "version": 3
   },
   "file_extension": ".py",
   "mimetype": "text/x-python",
   "name": "python",
   "nbconvert_exporter": "python",
   "pygments_lexer": "ipython3",
   "version": "3.6.4"
  }
 },
 "nbformat": 4,
 "nbformat_minor": 2
}
