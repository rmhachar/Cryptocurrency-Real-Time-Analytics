{
 "cells": [
  {
   "cell_type": "markdown",
   "metadata": {},
   "source": [
    "# Identifying Arbitrage Opportunities\n",
    "\n",
    "This notebook is for testing the individual functions within lambda_script.py, outside of a lambda.\n",
    "\n",
    "This script identifies arbitrage opportunities across a set of cryptocurrency exchanges by returning the current value of any given cryptocurrency on any given exchange, and identifying the exchanges with the highest and lowest values for said cryptocurrency."
   ]
  },
  {
   "cell_type": "markdown",
   "metadata": {},
   "source": [
    "## Setup"
   ]
  },
  {
   "cell_type": "code",
   "execution_count": 27,
   "metadata": {},
   "outputs": [],
   "source": [
    "# Imports\n",
    "import json\n",
    "import operator\n",
    "import requests\n",
    "from datetime import datetime"
   ]
  },
  {
   "cell_type": "code",
   "execution_count": 28,
   "metadata": {},
   "outputs": [],
   "source": [
    "# Declare variables\n",
    "currency1 = 'BTC'\n",
    "currency2 = ['USD', 'USDT']\n",
    "\n",
    "exchanges = [\n",
    "    \"Bitfinex\",\n",
    "    \"Binance\",\n",
    "    \"Poloniex\",\n",
    "    \"Coinbase\",\n",
    "    \"BitTrex\" \n",
    "]\n",
    "\n",
    "api_key = 'c32565db2e025bfaba2a25ccc2068d5aa44ddaefd51277bfd833e5649606defc'"
   ]
  },
  {
   "cell_type": "markdown",
   "metadata": {},
   "source": [
    "## Define Functions"
   ]
  },
  {
   "cell_type": "code",
   "execution_count": 31,
   "metadata": {},
   "outputs": [],
   "source": [
    "def get_coin_price(currency1, currency2, exchange, api_key):\n",
    "    url = 'https://min-api.cryptocompare.com/data/price?fsym={}&tsyms={}&api_key={}&e={}'.format(\n",
    "        currency1, \n",
    "        currency2, \n",
    "        api_key, \n",
    "        exchange\n",
    "    )\n",
    "    \n",
    "    headers = {\n",
    "        'Content-Type': \"application/json\"\n",
    "    }\n",
    "    response = requests.request(\"GET\", url, headers=headers).json()\n",
    "    \n",
    "    return response\n"
   ]
  },
  {
   "cell_type": "code",
   "execution_count": 32,
   "metadata": {},
   "outputs": [],
   "source": [
    "def find_arbitarage_opportunities(currency1, currency2, exchanges, api_key):\n",
    "    \n",
    "    usd_exchange = ['Coinbase', 'BitTrex', 'Bitfinex']\n",
    "    usdt_exchange = ['Binance', 'Poloniex']\n",
    "    exchange_list = []\n",
    "    value_list = []\n",
    "    \n",
    "    # create price list\n",
    "    for exchange in exchanges:\n",
    "        if exchange in usd_exchange:\n",
    "            coin_price = get_coin_price(currency1, currency2[0], exchange, api_key)['USD']\n",
    "        else:\n",
    "            coin_price = get_coin_price(currency1, currency2[1], exchange, api_key)['USDT']\n",
    "        value_list.append(coin_price)\n",
    "        \n",
    "    # create exchange list\n",
    "    for i in range(0, len(exchanges)):\n",
    "        exchange_list.append(exchanges[i])\n",
    "        \n",
    "    # create dictionary\n",
    "    response = dict(zip(exchange_list, value_list))\n",
    "    \n",
    "    # min and max\n",
    "    max_value = max(response.values())\n",
    "    max_exchange = max(response.items(), key=operator.itemgetter(1))[0]\n",
    "    min_value = min(response.values())\n",
    "    min_exchange = min(response.items(), key=operator.itemgetter(1))[0]\n",
    "    \n",
    "    # time\n",
    "    now = datetime.now()\n",
    "    timestamp = str(now.month) + '-' + str(now.day) + '-' + str(now.year) + ' / ' + str(now.hour) + ':' + str(now.minute) + ':' + str(now.second)\n",
    "    \n",
    "    # gains\n",
    "    dollar_dif = round(max_value - min_value)\n",
    "    percent_gain = ((max_value - min_value)/min_value)*100\n",
    "    \n",
    "    # create output\n",
    "    output = create_output(\n",
    "        response, \n",
    "        max_value, \n",
    "        max_exchange,\n",
    "        min_value, \n",
    "        min_exchange,\n",
    "        timestamp,\n",
    "        dollar_dif,\n",
    "        percent_gain\n",
    "    )\n",
    "    \n",
    "    return output"
   ]
  },
  {
   "cell_type": "code",
   "execution_count": 33,
   "metadata": {},
   "outputs": [],
   "source": [
    "def create_output(output, max_value, max_exchange, min_value, min_exchange, timestamp, dollar_dif, percent_gain):\n",
    "    output = {\n",
    "        'BTC': output,\n",
    "        'max_exchange': max_exchange,\n",
    "        'max_value': max_value,\n",
    "        'min_exchange': min_exchange,\n",
    "        'min_value': min_value,\n",
    "        'timestamp': timestamp,\n",
    "        'dollar_dif': dollar_dif,\n",
    "        'percent_gain': percent_gain\n",
    "    }\n",
    "    \n",
    "    return output"
   ]
  },
  {
   "cell_type": "code",
   "execution_count": 34,
   "metadata": {},
   "outputs": [],
   "source": [
    "response = find_arbitarage_opportunities(currency1, currency2, exchanges, api_key)"
   ]
  },
  {
   "cell_type": "code",
   "execution_count": 35,
   "metadata": {},
   "outputs": [
    {
     "data": {
      "text/plain": [
       "{'BTC': {'Binance': 7756.06,\n",
       "  'BitTrex': 7892.13,\n",
       "  'Bitfinex': 7753.11,\n",
       "  'Coinbase': 7880.66,\n",
       "  'Poloniex': 7814.11},\n",
       " 'dollar_dif': 139,\n",
       " 'max_exchange': 'BitTrex',\n",
       " 'max_value': 7892.13,\n",
       " 'min_exchange': 'Bitfinex',\n",
       " 'min_value': 7753.11,\n",
       " 'percent_gain': 1.793086903191112,\n",
       " 'timestamp': '5-13-2019 / 11:51:36'}"
      ]
     },
     "execution_count": 35,
     "metadata": {},
     "output_type": "execute_result"
    }
   ],
   "source": [
    "response"
   ]
  }
 ],
 "metadata": {
  "kernelspec": {
   "display_name": "Python 3",
   "language": "python",
   "name": "python3"
  },
  "language_info": {
   "codemirror_mode": {
    "name": "ipython",
    "version": 3
   },
   "file_extension": ".py",
   "mimetype": "text/x-python",
   "name": "python",
   "nbconvert_exporter": "python",
   "pygments_lexer": "ipython3",
   "version": "3.6.4"
  }
 },
 "nbformat": 4,
 "nbformat_minor": 2
}
