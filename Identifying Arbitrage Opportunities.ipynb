{
 "cells": [
  {
   "cell_type": "markdown",
   "metadata": {},
   "source": [
    "# Identifying Arbitrage Opportunities\n",
    "\n",
    "This script identifies arbitrage opportunities across a set of cryptocurrency exchanges by returning the current value of any given cryptocurrency on any given exchange, and identifying the exchanges with the highest and lowest values for said cryptocurrency.\n",
    "\n",
    "#### API \n",
    "\n",
    "1. "
   ]
  },
  {
   "cell_type": "code",
   "execution_count": 7,
   "metadata": {},
   "outputs": [],
   "source": [
    "import pandas as pd\n",
    "import numpy as np\n",
    "import requests\n",
    "import json"
   ]
  },
  {
   "cell_type": "code",
   "execution_count": 21,
   "metadata": {},
   "outputs": [],
   "source": [
    "exchanges = [\n",
    "    \"Bitfinex\",\n",
    "    \"Binance\",\n",
    "    \"Poloniex\",\n",
    "    \"Coinbase\",\n",
    "    \"BitTrex\" \n",
    "]"
   ]
  },
  {
   "cell_type": "code",
   "execution_count": 18,
   "metadata": {},
   "outputs": [],
   "source": [
    "def api_test(exchange, currency2):\n",
    "    \n",
    "    api_key = 'c32565db2e025bfaba2a25ccc2068d5aa44ddaefd51277bfd833e5649606defc'\n",
    "\n",
    "    url = 'https://min-api.cryptocompare.com/data/price?fsym=BTC&tsyms={}&api_key={}&e={}'.format(currency2, api_key, exchange)\n",
    "\n",
    "    headers = {\n",
    "        'Content-Type': \"application/json\"\n",
    "    }\n",
    "    \n",
    "    response = requests.request(\"GET\", url, headers=headers)\n",
    "    response = response.json()\n",
    "    r = response\n",
    "\n",
    "    return r"
   ]
  },
  {
   "cell_type": "code",
   "execution_count": null,
   "metadata": {},
   "outputs": [],
   "source": [
    "def get_coin_price(currency1, currency2, exchange, api_key):\n",
    "    url = 'https://min-api.cryptocompare.com/data/price?fsym=BTC&tsyms={}&api_key={}&e={}'\n",
    "    .format(currency1, currency2, api_key, exchange)\n"
   ]
  },
  {
   "cell_type": "code",
   "execution_count": 20,
   "metadata": {},
   "outputs": [
    {
     "name": "stdout",
     "output_type": "stream",
     "text": [
      "Binance:  {'USDT': 6909.81}\n",
      "Bitfinex:  {'USD': 6916.8}\n",
      "Poloniex:  {'USD': 6340}\n"
     ]
    }
   ],
   "source": [
    "print(\"Binance: \", api_test('Binance', 'USDT'))\n",
    "print(\"Bitfinex: \", api_test('Bitfinex', 'USD'))\n",
    "print(\"Poloniex: \", api_test('Poloniex', 'USD'))"
   ]
  },
  {
   "cell_type": "code",
   "execution_count": 22,
   "metadata": {},
   "outputs": [
    {
     "name": "stdout",
     "output_type": "stream",
     "text": [
      "Bitfinex\n",
      "Binance\n",
      "Poloniex\n",
      "Coinbase\n",
      "BitTrex\n"
     ]
    }
   ],
   "source": [
    "def find_arbitarage_opportunities(currency1, currency2, exchanges, api_key):\n",
    "    \n",
    "    usd_exchange = ['Coinbase', 'BitTrex', 'Poloniex', 'Bitfinex']\n",
    "    usdt_exchange = ['Binance']\n",
    "    exchange_list = []\n",
    "    value_list = []\n",
    "    \n",
    "    for exchange in exchanges:\n",
    "        coin_price = get_coin_price(currency1, currency2, exchange, api_key)\n",
    "        if exchange in usd_exchange:\n",
    "            coin_price = coin_price['USD']\n",
    "        else:\n",
    "            coin_price = coin_price['USDT']\n",
    "        \n",
    "        coin_price\n",
    "        \n",
    "    for exchange in exchanges:\n",
    "        exchange_list.append(exchange)"
   ]
  },
  {
   "cell_type": "code",
   "execution_count": 24,
   "metadata": {},
   "outputs": [],
   "source": [
    "if 'D' in ['A', 'B', 'C']: print('yes')"
   ]
  },
  {
   "cell_type": "code",
   "execution_count": null,
   "metadata": {},
   "outputs": [],
   "source": []
  },
  {
   "cell_type": "code",
   "execution_count": null,
   "metadata": {},
   "outputs": [],
   "source": []
  }
 ],
 "metadata": {
  "kernelspec": {
   "display_name": "Python 3",
   "language": "python",
   "name": "python3"
  },
  "language_info": {
   "codemirror_mode": {
    "name": "ipython",
    "version": 3
   },
   "file_extension": ".py",
   "mimetype": "text/x-python",
   "name": "python",
   "nbconvert_exporter": "python",
   "pygments_lexer": "ipython3",
   "version": "3.6.4"
  }
 },
 "nbformat": 4,
 "nbformat_minor": 2
}
