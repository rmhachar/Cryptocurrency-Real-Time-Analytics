{
 "cells": [
  {
   "cell_type": "markdown",
   "metadata": {},
   "source": [
    "# Identifying Arbitrage Opportunities\n",
    "\n",
    "This notebook is for testing the individual functions within lambda_script.py, outside of a lambda.\n",
    "\n",
    "This script identifies arbitrage opportunities across a set of cryptocurrency exchanges by returning the current value of any given cryptocurrency on any given exchange, and identifying the exchanges with the highest and lowest values for said cryptocurrency."
   ]
  },
  {
   "cell_type": "markdown",
   "metadata": {},
   "source": [
    "## Setup"
   ]
  },
  {
   "cell_type": "code",
   "execution_count": 1,
   "metadata": {},
   "outputs": [],
   "source": [
    "# Imports\n",
    "import json\n",
    "import operator\n",
    "import requests\n",
    "from datetime import datetime"
   ]
  },
  {
   "cell_type": "code",
   "execution_count": 2,
   "metadata": {},
   "outputs": [],
   "source": [
    "# Declare variables\n",
    "currency1 = 'BTC'\n",
    "currency2 = ['USD', 'USDT']\n",
    "\n",
    "exchanges = [\n",
    "    \"Bitfinex\",\n",
    "    \"Binance\",\n",
    "    \"Poloniex\",\n",
    "    \"Coinbase\",\n",
    "    \"BitTrex\" \n",
    "]\n",
    "\n",
    "api_key = 'YOUR API KEY HERE'"
   ]
  },
  {
   "cell_type": "markdown",
   "metadata": {},
   "source": [
    "## Define Functions"
   ]
  },
  {
   "cell_type": "code",
   "execution_count": 3,
   "metadata": {},
   "outputs": [],
   "source": [
    "def get_coin_price(currency1, currency2, exchange, api_key):\n",
    "    url = 'https://min-api.cryptocompare.com/data/price?fsym={}&tsyms={}&api_key={}&e={}'.format(\n",
    "        currency1, \n",
    "        currency2, \n",
    "        api_key, \n",
    "        exchange\n",
    "    )\n",
    "    \n",
    "    headers = {\n",
    "        'Content-Type': \"application/json\"\n",
    "    }\n",
    "    response = requests.request(\"GET\", url, headers=headers).json()\n",
    "    \n",
    "    return response\n"
   ]
  },
  {
   "cell_type": "code",
   "execution_count": 4,
   "metadata": {},
   "outputs": [],
   "source": [
    "def find_arbitarage_opportunities(currency1, currency2, exchanges, api_key):\n",
    "    \n",
    "    usd_exchange = ['Coinbase', 'BitTrex', 'Bitfinex']\n",
    "    usdt_exchange = ['Binance', 'Poloniex']\n",
    "    exchange_list = []\n",
    "    value_list = []\n",
    "    \n",
    "    # create price list\n",
    "    for exchange in exchanges:\n",
    "        if exchange in usd_exchange:\n",
    "            coin_price = get_coin_price(currency1, currency2[0], exchange, api_key)['USD']\n",
    "        else:\n",
    "            coin_price = get_coin_price(currency1, currency2[1], exchange, api_key)['USDT']\n",
    "        value_list.append(coin_price)\n",
    "        \n",
    "    # create exchange list\n",
    "    for i in range(0, len(exchanges)):\n",
    "        exchange_list.append(exchanges[i])\n",
    "        \n",
    "    # create dictionary\n",
    "    response = dict(zip(exchange_list, value_list))\n",
    "    \n",
    "    # min and max\n",
    "    max_value = max(response.values())\n",
    "    max_exchange = max(response.items(), key=operator.itemgetter(1))[0]\n",
    "    min_value = min(response.values())\n",
    "    min_exchange = min(response.items(), key=operator.itemgetter(1))[0]\n",
    "    \n",
    "    # time\n",
    "    now = datetime.now()\n",
    "    timestamp = str(now.month) + '-' + str(now.day) + '-' + str(now.year) + ' / ' + str(now.hour) + ':' + str(now.minute) + ':' + str(now.second)\n",
    "    \n",
    "    # gains\n",
    "    dollar_dif = round(max_value - min_value)\n",
    "    percent_gain = ((max_value - min_value)/min_value)*100\n",
    "    \n",
    "    # create output\n",
    "    output = create_output(\n",
    "        response, \n",
    "        max_value, \n",
    "        max_exchange,\n",
    "        min_value, \n",
    "        min_exchange,\n",
    "        timestamp,\n",
    "        dollar_dif,\n",
    "        percent_gain\n",
    "    )\n",
    "    \n",
    "    return output"
   ]
  },
  {
   "cell_type": "code",
   "execution_count": 5,
   "metadata": {},
   "outputs": [],
   "source": [
    "def create_output(response, max_value, max_exchange, min_value, min_exchange, timestamp, dollar_dif, percent_gain):\n",
    "    output = {\n",
    "        'BTC': get_btc_values_and_spreads(response),\n",
    "        'max_exchange': max_exchange,\n",
    "        'max_value': max_value,\n",
    "        'min_exchange': min_exchange,\n",
    "        'min_value': min_value,\n",
    "        'timestamp': timestamp,\n",
    "        'dollar_dif': dollar_dif,\n",
    "        'percent_gain': percent_gain\n",
    "    }\n",
    "    \n",
    "    return output"
   ]
  },
  {
   "cell_type": "code",
   "execution_count": 6,
   "metadata": {},
   "outputs": [],
   "source": [
    "def get_btc_values_and_spreads(exchange_and_values):\n",
    "    \n",
    "    all_spreads = {}\n",
    "    \n",
    "    for key, value in exchange_and_values.items():\n",
    "        spreads = {}\n",
    "        temp_key = key\n",
    "        temp_value = value\n",
    "        \n",
    "        for key2, value2 in exchange_and_values.items():\n",
    "            temp_spread = {\n",
    "                key2: value-value2\n",
    "            }\n",
    "            spreads.update(temp_spread)\n",
    "        \n",
    "        temp_dict = {\n",
    "            temp_key: {\n",
    "                \"value\": temp_value,\n",
    "                \"spreads\": spreads\n",
    "            }\n",
    "        }\n",
    "        \n",
    "        all_spreads.update(temp_dict)\n",
    "        \n",
    "    return all_spreads"
   ]
  },
  {
   "cell_type": "code",
   "execution_count": 17,
   "metadata": {},
   "outputs": [],
   "source": [
    "response = find_arbitarage_opportunities(currency1, currency2, exchanges, api_key)"
   ]
  },
  {
   "cell_type": "code",
   "execution_count": 18,
   "metadata": {},
   "outputs": [
    {
     "data": {
      "text/plain": [
       "{'BTC': {'Binance': {'spreads': {'Binance': 0.0,\n",
       "    'BitTrex': -20.450000000000728,\n",
       "    'Bitfinex': -11.520000000000437,\n",
       "    'Coinbase': -25.729999999999563,\n",
       "    'Poloniex': -6.220000000001164},\n",
       "   'value': 8547.48},\n",
       "  'BitTrex': {'spreads': {'Binance': 20.450000000000728,\n",
       "    'BitTrex': 0.0,\n",
       "    'Bitfinex': 8.930000000000291,\n",
       "    'Coinbase': -5.279999999998836,\n",
       "    'Poloniex': 14.229999999999563},\n",
       "   'value': 8567.93},\n",
       "  'Bitfinex': {'spreads': {'Binance': 11.520000000000437,\n",
       "    'BitTrex': -8.930000000000291,\n",
       "    'Bitfinex': 0,\n",
       "    'Coinbase': -14.209999999999127,\n",
       "    'Poloniex': 5.299999999999272},\n",
       "   'value': 8559},\n",
       "  'Coinbase': {'spreads': {'Binance': 25.729999999999563,\n",
       "    'BitTrex': 5.279999999998836,\n",
       "    'Bitfinex': 14.209999999999127,\n",
       "    'Coinbase': 0.0,\n",
       "    'Poloniex': 19.5099999999984},\n",
       "   'value': 8573.21},\n",
       "  'Poloniex': {'spreads': {'Binance': 6.220000000001164,\n",
       "    'BitTrex': -14.229999999999563,\n",
       "    'Bitfinex': -5.299999999999272,\n",
       "    'Coinbase': -19.5099999999984,\n",
       "    'Poloniex': 0.0},\n",
       "   'value': 8553.7}},\n",
       " 'dollar_dif': 26,\n",
       " 'max_exchange': 'Coinbase',\n",
       " 'max_value': 8573.21,\n",
       " 'min_exchange': 'Binance',\n",
       " 'min_value': 8547.48,\n",
       " 'percent_gain': 0.30102439549433946,\n",
       " 'timestamp': '6-1-2019 / 23:14:2'}"
      ]
     },
     "execution_count": 18,
     "metadata": {},
     "output_type": "execute_result"
    }
   ],
   "source": [
    "response"
   ]
  },
  {
   "cell_type": "code",
   "execution_count": null,
   "metadata": {},
   "outputs": [],
   "source": []
  },
  {
   "cell_type": "code",
   "execution_count": null,
   "metadata": {},
   "outputs": [],
   "source": []
  },
  {
   "cell_type": "code",
   "execution_count": null,
   "metadata": {},
   "outputs": [],
   "source": []
  },
  {
   "cell_type": "code",
   "execution_count": null,
   "metadata": {},
   "outputs": [],
   "source": []
  },
  {
   "cell_type": "code",
   "execution_count": null,
   "metadata": {},
   "outputs": [],
   "source": []
  },
  {
   "cell_type": "code",
   "execution_count": null,
   "metadata": {},
   "outputs": [],
   "source": []
  }
 ],
 "metadata": {
  "kernelspec": {
   "display_name": "Python 3",
   "language": "python",
   "name": "python3"
  },
  "language_info": {
   "codemirror_mode": {
    "name": "ipython",
    "version": 3
   },
   "file_extension": ".py",
   "mimetype": "text/x-python",
   "name": "python",
   "nbconvert_exporter": "python",
   "pygments_lexer": "ipython3",
   "version": "3.6.4"
  }
 },
 "nbformat": 4,
 "nbformat_minor": 2
}
